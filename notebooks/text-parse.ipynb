{
 "cells": [
  {
   "cell_type": "markdown",
   "metadata": {},
   "source": [
    "## Keystroke labels\n",
    "\n",
    "To train a keystroke prediction system, we've recorded data from a user while typing on a real keyboard. Each dataset contains simultaneous recordings of EMG and the keystrokes the user typed (with timing information).\n",
    "\n",
    "This is an exploratory exercise focusing on the keystroke data (labels). We can ignore the EMG signal and sample timing for now.\n",
    "\n",
    "PS - if not already installed in the environment, you might need to install those python moduels: `numpy`, `itertools`, `string`"
   ]
  },
  {
   "cell_type": "code",
   "execution_count": 12,
   "metadata": {},
   "outputs": [
    {
     "data": {
      "text/plain": [
       "(7500, 97)"
      ]
     },
     "execution_count": 12,
     "metadata": {},
     "output_type": "execute_result"
    }
   ],
   "source": [
    "import numpy as np\n",
    "\n",
    "labels = np.load('labels.npy')\n",
    "labels.shape"
   ]
  },
  {
   "cell_type": "markdown",
   "metadata": {},
   "source": [
    "`labels` is a `np.ndarray` of num samples x num labels (where num samples is sampled at 100 hz)"
   ]
  },
  {
   "cell_type": "markdown",
   "metadata": {},
   "source": [
    "The labels are binary indicator vectors, indexes the same as the array `ALLOWED_ASCII`, which contains the corresponding ascii value."
   ]
  },
  {
   "cell_type": "code",
   "execution_count": 13,
   "metadata": {},
   "outputs": [
    {
     "data": {
      "text/plain": [
       "97"
      ]
     },
     "execution_count": 13,
     "metadata": {},
     "output_type": "execute_result"
    }
   ],
   "source": [
    "import itertools\n",
    "import string\n",
    "\n",
    "ALLOWED_ASCII = list(\n",
    "    itertools.chain(\n",
    "        map(ord, string.ascii_letters),\n",
    "        map(ord, string.digits),\n",
    "        map(ord, string.punctuation),\n",
    "        [8, 13, 32],  # backspace, return, space\n",
    "    ))\n",
    "len(ALLOWED_ASCII)"
   ]
  },
  {
   "cell_type": "code",
   "execution_count": 14,
   "metadata": {},
   "outputs": [
    {
     "data": {
      "text/plain": [
       "['a', 'b', 'c', 'd', 'e', 'f', 'g', 'h', 'i', 'j']"
      ]
     },
     "execution_count": 14,
     "metadata": {},
     "output_type": "execute_result"
    }
   ],
   "source": [
    "# An example list of ascii values of each label class:\n",
    "[chr(c) for c in ALLOWED_ASCII][:10]"
   ]
  },
  {
   "cell_type": "markdown",
   "metadata": {},
   "source": [
    "The goal here is to parse the text encoded in labels dataset such that it shows up as a human readable sentence."
   ]
  },
  {
   "cell_type": "code",
   "execution_count": null,
   "metadata": {},
   "outputs": [],
   "source": []
  }
 ],
 "metadata": {
  "kernelspec": {
   "display_name": "Python 3",
   "language": "python",
   "name": "python3"
  },
  "language_info": {
   "codemirror_mode": {
    "name": "ipython",
    "version": 3
   },
   "file_extension": ".py",
   "mimetype": "text/x-python",
   "name": "python",
   "nbconvert_exporter": "python",
   "pygments_lexer": "ipython3",
   "version": "3.6.3"
  }
 },
 "nbformat": 4,
 "nbformat_minor": 4
}
