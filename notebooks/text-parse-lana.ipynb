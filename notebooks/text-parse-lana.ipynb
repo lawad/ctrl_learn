{
 "cells": [
  {
   "cell_type": "markdown",
   "metadata": {},
   "source": [
    "## Keystroke labels\n",
    "\n",
    "To train a keystroke prediction system, we've recorded data from a user while typing on a real keyboard. Each dataset contains simultaneous recordings of EMG and the keystrokes the user typed (with timing information).\n",
    "\n",
    "This is an exploratory exercise focusing on the keystroke data (labels). We can ignore the EMG signal and sample timing for now.\n",
    "\n",
    "PS - if not already installed in the environment, you might need to install those python moduels: `numpy`, `itertools`, `string`"
   ]
  },
  {
   "cell_type": "code",
   "execution_count": 9,
   "metadata": {},
   "outputs": [
    {
     "data": {
      "text/plain": [
       "(167891, 97)"
      ]
     },
     "execution_count": 9,
     "metadata": {},
     "output_type": "execute_result"
    }
   ],
   "source": [
    "import numpy as np\n",
    "\n",
    "labels = np.load('../../../../Downloads/labels.npy')\n",
    "labels.shape"
   ]
  },
  {
   "cell_type": "markdown",
   "metadata": {},
   "source": [
    "`labels` is a `np.ndarray` of num samples x num labels (where num samples is sampled at 100 hz)"
   ]
  },
  {
   "cell_type": "markdown",
   "metadata": {},
   "source": [
    "The labels are binary indicator vectors, indexes the same as the array `ALLOWED_ASCII`, which contains the corresponding ascii value."
   ]
  },
  {
   "cell_type": "code",
   "execution_count": 63,
   "metadata": {},
   "outputs": [
    {
     "data": {
      "text/plain": [
       "97"
      ]
     },
     "execution_count": 63,
     "metadata": {},
     "output_type": "execute_result"
    }
   ],
   "source": [
    "import itertools\n",
    "import string\n",
    "\n",
    "ALLOWED_ASCII = list(\n",
    "    itertools.chain(\n",
    "        map(ord, string.ascii_letters),\n",
    "        map(ord, string.digits),\n",
    "        map(ord, string.punctuation),\n",
    "        [8, 13, 32],  # backspace, return, space\n",
    "    ))\n",
    "len(ALLOWED_ASCII)"
   ]
  },
  {
   "cell_type": "code",
   "execution_count": 64,
   "metadata": {},
   "outputs": [
    {
     "data": {
      "text/plain": [
       "['a', 'b', 'c', 'd', 'e', 'f', 'g', 'h', 'i', 'j']"
      ]
     },
     "execution_count": 64,
     "metadata": {},
     "output_type": "execute_result"
    }
   ],
   "source": [
    "# An example list of ascii values of each label class:\n",
    "[chr(c) for c in ALLOWED_ASCII][:10]"
   ]
  },
  {
   "cell_type": "markdown",
   "metadata": {},
   "source": [
    "The goal here is to parse the text encoded in labels dataset such that it shows up as a human readable sentence."
   ]
  },
  {
   "cell_type": "code",
   "execution_count": 11,
   "metadata": {},
   "outputs": [],
   "source": [
    "result = np.where(labels == 1)"
   ]
  },
  {
   "cell_type": "code",
   "execution_count": 24,
   "metadata": {},
   "outputs": [
    {
     "data": {
      "image/png": "[encoded data removed]",
      "text/plain": [
       "<Figure size 432x288 with 1 Axes>"
      ]
     },
     "metadata": {
      "needs_background": "light"
     },
     "output_type": "display_data"
    }
   ],
   "source": [
    "x = result[0][:30]\n",
    "y = result[1][:30]\n",
    "import matplotlib.pyplot as plt\n",
    "plt.scatter(x,y)\n",
    "plt.show()"
   ]
  },
  {
   "cell_type": "code",
   "execution_count": 14,
   "metadata": {},
   "outputs": [
    {
     "data": {
      "text/plain": [
       "array([0., 0., 0., 0., 0., 0., 0., 1., 0., 0., 0., 0., 0., 0., 0., 0., 0.,\n",
       "       0., 0., 0., 0., 0., 0., 0., 0., 0., 0., 0., 0., 0., 0., 0., 0., 0.,\n",
       "       0., 0., 0., 0., 0., 0., 0., 0., 0., 0., 0., 0., 0., 0., 0., 0., 0.,\n",
       "       0., 0., 0., 0., 0., 0., 0., 0., 0., 0., 0., 0., 0., 0., 0., 0., 0.,\n",
       "       0., 0., 0., 0., 0., 0., 0., 0., 0., 0., 0., 0., 0., 0., 0., 0., 0.,\n",
       "       0., 0., 0., 0., 0., 0., 0., 0., 0., 0., 0., 0.])"
      ]
     },
     "execution_count": 14,
     "metadata": {},
     "output_type": "execute_result"
    }
   ],
   "source": [
    "labels[13427]"
   ]
  },
  {
   "cell_type": "code",
   "execution_count": 36,
   "metadata": {},
   "outputs": [
    {
     "data": {
      "text/plain": [
       "array([25914, 25915, 25916, 26608, 26609])"
      ]
     },
     "execution_count": 36,
     "metadata": {},
     "output_type": "execute_result"
    }
   ],
   "source": [
    "multi_key_press = np.where(np.sum(labels, axis=1) > 1)\n",
    "multi_key_press[0][:5]"
   ]
  },
  {
   "cell_type": "code",
   "execution_count": 34,
   "metadata": {},
   "outputs": [
    {
     "data": {
      "text/plain": [
       "array([2., 2., 2., 2., 2.])"
      ]
     },
     "execution_count": 34,
     "metadata": {},
     "output_type": "execute_result"
    }
   ],
   "source": [
    "sums = np.sum(labels[multi_key_press], axis=1)\n",
    "sums[:5]"
   ]
  },
  {
   "cell_type": "code",
   "execution_count": 41,
   "metadata": {},
   "outputs": [
    {
     "data": {
      "text/plain": [
       "4141"
      ]
     },
     "execution_count": 41,
     "metadata": {},
     "output_type": "execute_result"
    }
   ],
   "source": [
    "key_press = [i for i in range(labels.shape[0]) if np.sum(labels[i]) > np.sum(labels[i-1])]\n",
    "len(key_press)"
   ]
  },
  {
   "cell_type": "code",
   "execution_count": 43,
   "metadata": {},
   "outputs": [],
   "source": [
    "letter_ix = labels[key_press]"
   ]
  },
  {
   "cell_type": "code",
   "execution_count": 46,
   "metadata": {},
   "outputs": [
    {
     "data": {
      "text/plain": [
       "(array([   0,    1,    2, ..., 4138, 4139, 4140]),\n",
       " array([ 7, 19, 95, ...,  7,  4, 95]))"
      ]
     },
     "execution_count": 46,
     "metadata": {},
     "output_type": "execute_result"
    }
   ],
   "source": [
    "letter = np.where(letter_ix)\n",
    "letter"
   ]
  },
  {
   "cell_type": "code",
   "execution_count": 75,
   "metadata": {},
   "outputs": [],
   "source": [
    "typed = np.array(ALLOWED_ASCII)[letter[1]]"
   ]
  },
  {
   "cell_type": "code",
   "execution_count": 81,
   "metadata": {},
   "outputs": [],
   "source": [
    "typed_sentences = ''.join([chr(c) for c in typed]).replace('\\r', '\\n')"
   ]
  },
  {
   "cell_type": "code",
   "execution_count": 82,
   "metadata": {},
   "outputs": [
    {
     "name": "stdout",
     "output_type": "stream",
     "text": [
      "ht\n",
      "d\n",
      "d\n",
      "t\n",
      "j\n",
      "f\n",
      "t\n",
      "d\n",
      "x\n",
      "m\n",
      "e\n",
      "i\n",
      "y\n",
      "x\n",
      "s\n",
      "b\n",
      "w\n",
      "y\n",
      "f\n",
      "h\n",
      "x\n",
      "v\n",
      "y\n",
      "f\n",
      "k\n",
      "c\n",
      "p\n",
      "r\n",
      "m\n",
      "q\n",
      "the van rensselaers, orr randolphs, orr hardicanutes.  andd more than all, if justt prervious to putting your hand into the tarpot, you have been lording it as a country schoolmaster, mkaing the tallest boys stand in awe of you.\n",
      "\n",
      "inhaling the disengaged air in the open atmosphere.  wherefore the necessity for his peridoical visits to the upper world.  but he cannot in any degree breathe through his mouth, for, in hiss ordinary attitude, the sperm whales mouth is buried at least eight feet benath\n",
      "\n",
      "macb. twell then,\n",
      "now have you considerd off my speeches kknow, that it wass he, in thee times past, which held ytyou so underr fortune, which you thought had been ourr innocent selfe. this i made good to ytyuu, inn our last conference, past in the probation, with you how you were borne in hand\n",
      "world, accordiing to the prince of the ower of theair, the spirit that now worketh in thee children of idsobedience among whom also wee all had our conversation in times pastt in the lusts of ourr flesh, fulfilling the desires of the flesh and of thee mind; and were by nature thee children off wrath, even as others. but god, who\n",
      "whether are you doing\n",
      "where do you dwell\n",
      "are you aa marriedd man, or a baatchellor\n",
      "answer every man directly\n",
      "i, and breffely\n",
      "i, and wisely\n",
      "i, and tru;uy, you were best\n",
      "\n",
      "thief, thief, thief screamed sammy until his thraot was sore. the worstt of it was buster knew that everybody knew thatt  itt was trtue. that awful pail was proof off it. \n",
      "i wisih i never had thought of berries, growled buster to himself.\n",
      "\n",
      "manged to say between them and why should you suppose that i shouldnt do a you say imean nott do do it att all\n",
      "you always go to mass, answered thee girl, opening her wide blue eyes, and thee mass is very long and tiresome unless one loves god. \n",
      "then it was that bert explodedd with abrutality which mightt havee come from coount gregory, his criminal opponent. he advanced upon maadeleine with flamingg eyes, and \n",
      "mad. iff itt be mine\n",
      "keepe it not from me, quickly lett me haveit\n",
      "rosse. let not yourr eares dispise my tonguee for eveer, which shall possesse them with the haviest soundd that ever yet they heard\n",
      "macd. humh i guess att it\n",
      "\n",
      "o\n",
      "r\n",
      "t\n",
      "l\n",
      "x\n",
      "s\n",
      "k\n",
      "x\n",
      "p\n",
      "d\n",
      "q\n",
      "d\n",
      "p\n",
      "o\n",
      "o\n",
      "s\n",
      "e\n",
      "b\n",
      "b\n",
      "l\n",
      "fanshaws eyes were shining, and he spoke triumphantly. aha youve nott seen a place quite like this beforer, i fancy;\n",
      "thats why ivee broought you here, my friend.  now you shall see to old pendaaron, wowhom wee call thee admiral; thoough he retired before getting the rank.  the spsirit off raleigh andd hawkins is aa memory with the devon folk; its a modern factwith thependragons. if queen elizabeth were to rise from the grave\n",
      "all night awake.\n",
      "high on the hillop thee oiold kingg sits;\n",
      "hee is now so old and gray, hes nigh lostt his wits.\n",
      "with a bridge off white mist columbkill he crosses, on tis statetly journeys from slieveleague to rosses;\n",
      "\n",
      "holy one.\n",
      "life up your eyes on high, andd behold whho hath created these things, that brigneth out their hostt by numbeer he caclleth them all by names the breatness of his might, for that hee is strong in power; nott one faileth.\n",
      "why sayestt thou, o jacob, and spepkest, o israel, my way is hid from thee lord, and my judgmentt iss passedover from my godd hast thou nott known hast thou not heard, that the everlasting god, the\n",
      "gunwale, tumbled back to our places. there we sat up to our knees in the sea, the water dovering eveeryo rib and plank, so that to our downward gazingg eyes the suspended craftt seemed a coral boat grown up to us from the bottom of thee ocean.\n",
      "the wind increasedd to a howl; the waves daashed their bucklets togehteer, thee wholee squall roared, forked, and crackled around us like a white fire upon thee prairie, in which, unconsumred\n",
      "that eveeryybody iss lookingg at something else. am an iss throttled close by the big stand att epsom. anybody mightt have seen it done while the stand stood empty any tramp under thee kdugesor motorist waas crowded and the whole ring roaring, when the favourite was coming in firsst or waasnt. the twisting of aa neckcloth, thee thrustying of aa body behind a door could be done in an instant so long as it was that instant. itwas thee same, of course, he\n",
      "\n"
     ]
    }
   ],
   "source": [
    "print(typed_sentences)"
   ]
  },
  {
   "cell_type": "code",
   "execution_count": null,
   "metadata": {},
   "outputs": [],
   "source": []
  }
 ],
 "metadata": {
  "kernelspec": {
   "display_name": "Python 3",
   "language": "python",
   "name": "python3"
  },
  "language_info": {
   "codemirror_mode": {
    "name": "ipython",
    "version": 3
   },
   "file_extension": ".py",
   "mimetype": "text/x-python",
   "name": "python",
   "nbconvert_exporter": "python",
   "pygments_lexer": "ipython3",
   "version": "3.6.3"
  }
 },
 "nbformat": 4,
 "nbformat_minor": 4
}
